{
 "cells": [
  {
   "cell_type": "code",
   "execution_count": 1,
   "id": "4a32ff5c-98f2-478e-bbfc-42b151fc4e8e",
   "metadata": {},
   "outputs": [],
   "source": [
    "import pandas as pd\n",
    "import numpy as np\n",
    "from scipy import stats"
   ]
  },
  {
   "cell_type": "markdown",
   "id": "17fa91c0-34ee-4301-bdaa-a046f1293ecf",
   "metadata": {},
   "source": [
    "## 1. Help functions"
   ]
  },
  {
   "cell_type": "code",
   "execution_count": 2,
   "id": "7ed167cd-f9e5-4b64-aaca-322d9ef62e1e",
   "metadata": {},
   "outputs": [],
   "source": [
    "HAPPY_COLUMNS = ['Type', 'Filter', 'TRUTH.TP', 'QUERY.FP', 'TRUTH.FN', 'METRIC.Recall', 'METRIC.Precision', 'METRIC.F1_Score']\n"
   ]
  },
  {
   "cell_type": "markdown",
   "id": "ec4bed38-36a4-437d-9608-65c30e55a358",
   "metadata": {},
   "source": [
    "## 2. Input files"
   ]
  },
  {
   "cell_type": "code",
   "execution_count": 3,
   "id": "051f9bff-7cba-49bb-9d57-00edc75d373d",
   "metadata": {},
   "outputs": [],
   "source": [
    "SAMPLE_ANNOTATIONS_FILE = 'sample_annotations.txt'\n",
    "GLIMPSE_BENCHMARK_DIR = '1KG_HGDP_WEGS_imputation_analysis'\n"
   ]
  },
  {
   "cell_type": "markdown",
   "id": "8c1b2fbe-d705-4b4e-9903-d74f2b2f5f79",
   "metadata": {},
   "source": [
    "## 3. Load data"
   ]
  },
  {
   "cell_type": "code",
   "execution_count": 4,
   "id": "e782394a-a3ce-42b5-87fc-a36a5ec3dba5",
   "metadata": {
    "jupyter": {
     "source_hidden": true
    },
    "tags": []
   },
   "outputs": [],
   "source": [
    "# Load sample annotations\n",
    "df_samples = pd.read_csv(SAMPLE_ANNOTATIONS_FILE, header = 0, sep = '\\t')\n",
    "\n",
    "hgid2naid = {\n",
    "    'HG002': 'NA24385',\n",
    "    'HG003': 'NA24149',\n",
    "    'HG004': 'NA24143'\n",
    "}\n",
    "\n",
    "hgid2rel = {\n",
    "    'HG002': 'Son',\n",
    "    'HG003': 'Father',\n",
    "    'HG004': 'Mother'\n",
    "}"
   ]
  },
  {
   "cell_type": "markdown",
   "id": "3a67f8cf-7cfc-4ba9-a7b6-0c3b01f7a517",
   "metadata": {},
   "source": [
    "### 3.1 Load GLIMPSE imputed variants"
   ]
  },
  {
   "cell_type": "code",
   "execution_count": 5,
   "id": "3f688ef8-cf3b-4686-9df7-e4487d51a022",
   "metadata": {
    "jupyter": {
     "source_hidden": true
    },
    "tags": []
   },
   "outputs": [],
   "source": [
    "df_glimpse_variants = []\n",
    "for row_index, row in df_samples.iterrows():\n",
    "    for plexing, wgs_depth in [(4, 2), (8, 5)]:\n",
    "        if row.Plexing != plexing:\n",
    "            continue\n",
    "        filepath = f'{GLIMPSE_BENCHMARK_DIR}/{row.Plexing}plex_{wgs_depth}X/{row.Filename}.imputed.merged_with_WEGS.happy_benchmark.summary.csv'\n",
    "        df = pd.read_csv(filepath, usecols = HAPPY_COLUMNS).rename(columns = {\n",
    "            'METRIC.Recall': 'Recall', \n",
    "            'METRIC.Precision': 'Precision',\n",
    "            'METRIC.F1_Score': 'F1_Score',\n",
    "            'TRUTH.TP': 'TP',\n",
    "            'QUERY.FP': 'FP',\n",
    "            'TRUTH.FN': 'FN'\n",
    "        })\n",
    "        df['Total_called'] = df['TP'] + df['FP']\n",
    "        df['ID'] = row.Filename\n",
    "        df['HGID'] = row.HGID\n",
    "        df['Batch'] = row.Batch\n",
    "        df['Plexing'] = row.Plexing\n",
    "        df['WGS_depth'] = wgs_depth\n",
    "        df_glimpse_variants.append(df)\n",
    "df_glimpse_variants = pd.concat(df_glimpse_variants).reset_index(drop = True)\n"
   ]
  },
  {
   "cell_type": "markdown",
   "id": "cdf18fd4-3233-40ed-b1c5-7ca1a2d8e1eb",
   "metadata": {},
   "source": [
    "## 4. Figures and tables"
   ]
  },
  {
   "cell_type": "markdown",
   "id": "b5515344-6c62-4064-b7cc-4188a03c2b29",
   "metadata": {},
   "source": [
    "### TABLE: Precision and recall rates of variants imputed using the GLIMPSE method genome-wide (PART 1 - SNVs)"
   ]
  },
  {
   "cell_type": "code",
   "execution_count": 6,
   "id": "f7e2b67d-18fa-44a4-954c-7f0e65a99ffa",
   "metadata": {
    "jupyter": {
     "source_hidden": true
    },
    "tags": []
   },
   "outputs": [
    {
     "data": {
      "text/html": [
       "<div>\n",
       "<style scoped>\n",
       "    .dataframe tbody tr th:only-of-type {\n",
       "        vertical-align: middle;\n",
       "    }\n",
       "\n",
       "    .dataframe tbody tr th {\n",
       "        vertical-align: top;\n",
       "    }\n",
       "\n",
       "    .dataframe thead th {\n",
       "        text-align: right;\n",
       "    }\n",
       "</style>\n",
       "<table border=\"1\" class=\"dataframe\">\n",
       "  <thead>\n",
       "    <tr style=\"text-align: right;\">\n",
       "      <th></th>\n",
       "      <th>Sample</th>\n",
       "      <th>Imputed 4P2X TP</th>\n",
       "      <th>Imputed 4P2X FN</th>\n",
       "      <th>Imputed 4P2X FP</th>\n",
       "      <th>Imputed 4P2X Precision</th>\n",
       "      <th>Imputed 4P2X Recall</th>\n",
       "      <th>Imputed 8P5X TP</th>\n",
       "      <th>Imputed 8P5X FN</th>\n",
       "      <th>Imputed 8P5X FP</th>\n",
       "      <th>Imputed 8P5X Precision</th>\n",
       "      <th>Imputed 8P5X Recall</th>\n",
       "    </tr>\n",
       "  </thead>\n",
       "  <tbody>\n",
       "    <tr>\n",
       "      <th>0</th>\n",
       "      <td>HG002</td>\n",
       "      <td>2,736,662 (2,636)</td>\n",
       "      <td>616,017 (2,636)</td>\n",
       "      <td>372,221 (1,713)</td>\n",
       "      <td>0.8803 (0.0006)</td>\n",
       "      <td>0.8163 (0.0008)</td>\n",
       "      <td>2,922,557 (375)</td>\n",
       "      <td>430,122 (375)</td>\n",
       "      <td>301,471 (328)</td>\n",
       "      <td>0.9065 (0.0001)</td>\n",
       "      <td>0.8717 (0.0001)</td>\n",
       "    </tr>\n",
       "    <tr>\n",
       "      <th>1</th>\n",
       "      <td>HG003</td>\n",
       "      <td>2,709,032 (1,998)</td>\n",
       "      <td>605,111 (1,998)</td>\n",
       "      <td>388,043 (965)</td>\n",
       "      <td>0.8747 (0.0004)</td>\n",
       "      <td>0.8174 (0.0006)</td>\n",
       "      <td>2,919,299 (567)</td>\n",
       "      <td>394,844 (567)</td>\n",
       "      <td>267,597 (277)</td>\n",
       "      <td>0.9160 (0.0001)</td>\n",
       "      <td>0.8809 (0.0002)</td>\n",
       "    </tr>\n",
       "    <tr>\n",
       "      <th>2</th>\n",
       "      <td>HG004</td>\n",
       "      <td>2,706,645 (1,212)</td>\n",
       "      <td>633,826 (1,212)</td>\n",
       "      <td>381,866 (504)</td>\n",
       "      <td>0.8764 (0.0002)</td>\n",
       "      <td>0.8103 (0.0004)</td>\n",
       "      <td>2,879,156 (815)</td>\n",
       "      <td>461,315 (815)</td>\n",
       "      <td>323,954 (586)</td>\n",
       "      <td>0.8989 (0.0002)</td>\n",
       "      <td>0.8619 (0.0002)</td>\n",
       "    </tr>\n",
       "  </tbody>\n",
       "</table>\n",
       "</div>"
      ],
      "text/plain": [
       "  Sample    Imputed 4P2X TP  Imputed 4P2X FN  Imputed 4P2X FP  \\\n",
       "0  HG002  2,736,662 (2,636)  616,017 (2,636)  372,221 (1,713)   \n",
       "1  HG003  2,709,032 (1,998)  605,111 (1,998)    388,043 (965)   \n",
       "2  HG004  2,706,645 (1,212)  633,826 (1,212)    381,866 (504)   \n",
       "\n",
       "  Imputed 4P2X Precision Imputed 4P2X Recall  Imputed 8P5X TP Imputed 8P5X FN  \\\n",
       "0        0.8803 (0.0006)     0.8163 (0.0008)  2,922,557 (375)   430,122 (375)   \n",
       "1        0.8747 (0.0004)     0.8174 (0.0006)  2,919,299 (567)   394,844 (567)   \n",
       "2        0.8764 (0.0002)     0.8103 (0.0004)  2,879,156 (815)   461,315 (815)   \n",
       "\n",
       "  Imputed 8P5X FP Imputed 8P5X Precision Imputed 8P5X Recall  \n",
       "0   301,471 (328)        0.9065 (0.0001)     0.8717 (0.0001)  \n",
       "1   267,597 (277)        0.9160 (0.0001)     0.8809 (0.0002)  \n",
       "2   323,954 (586)        0.8989 (0.0002)     0.8619 (0.0002)  "
      ]
     },
     "execution_count": 6,
     "metadata": {},
     "output_type": "execute_result"
    }
   ],
   "source": [
    "data = {\n",
    "    'Sample': [],\n",
    "    'Imputed 4P2X TP': [],\n",
    "    'Imputed 4P2X FN': [],\n",
    "    'Imputed 4P2X FP': [],\n",
    "    'Imputed 4P2X Precision': [],\n",
    "    'Imputed 4P2X Recall': [],\n",
    "    'Imputed 8P5X TP': [],\n",
    "    'Imputed 8P5X FN': [],\n",
    "    'Imputed 8P5X FP': [],\n",
    "    'Imputed 8P5X Precision': [],\n",
    "    'Imputed 8P5X Recall': [],\n",
    "}\n",
    "\n",
    "for hgid, naid in hgid2naid.items():\n",
    "    data['Sample'].append(hgid)\n",
    "    \n",
    "    df_temp = df_glimpse_variants[df_glimpse_variants.HGID == hgid]\n",
    "    df_temp = df_temp[(df_temp.Type == 'SNP') & (df_temp.Filter == 'ALL') & (df_temp.Plexing == 4) & (df_temp.WGS_depth == 2)]\n",
    "    data['Imputed 4P2X TP'].append(f'{np.mean(df_temp.TP):,.0f} ({stats.sem(df_temp.TP):,.0f})')\n",
    "    data['Imputed 4P2X FP'].append(f'{np.mean(df_temp.FP):,.0f} ({stats.sem(df_temp.FP):,.0f})')\n",
    "    data['Imputed 4P2X FN'].append(f'{np.mean(df_temp.FN):,.0f} ({stats.sem(df_temp.FN):,.0f})')\n",
    "    data['Imputed 4P2X Precision'].append(f'{np.mean(df_temp.Precision):.4f} ({stats.sem(df_temp.Precision):,.4f})')\n",
    "    data['Imputed 4P2X Recall'].append(f'{np.mean(df_temp.Recall):.4f} ({stats.sem(df_temp.Recall):,.4f})')\n",
    "    \n",
    "    df_temp = df_glimpse_variants[df_glimpse_variants.HGID == hgid]\n",
    "    df_temp = df_temp[(df_temp.Type == 'SNP') & (df_temp.Filter == 'ALL') & (df_temp.Plexing == 8) & (df_temp.WGS_depth == 5)]\n",
    "    data['Imputed 8P5X TP'].append(f'{np.mean(df_temp.TP):,.0f} ({stats.sem(df_temp.TP):,.0f})')\n",
    "    data['Imputed 8P5X FP'].append(f'{np.mean(df_temp.FP):,.0f} ({stats.sem(df_temp.FP):,.0f})')\n",
    "    data['Imputed 8P5X FN'].append(f'{np.mean(df_temp.FN):,.0f} ({stats.sem(df_temp.FN):,.0f})')\n",
    "    data['Imputed 8P5X Precision'].append(f'{np.mean(df_temp.Precision):.4f} ({stats.sem(df_temp.Precision):,.4f})')\n",
    "    data['Imputed 8P5X Recall'].append(f'{np.mean(df_temp.Recall):.4f} ({stats.sem(df_temp.Recall):,.4f})')\n",
    "    \n",
    "pd.DataFrame(data)"
   ]
  },
  {
   "cell_type": "markdown",
   "id": "11133fb2-d3cb-417d-bc91-a5a0cbf6c204",
   "metadata": {},
   "source": [
    "### TABLE: Precision and recall rates of variants imputed using the GLIMPSE method genome-wide (PART 2 - InDels)"
   ]
  },
  {
   "cell_type": "code",
   "execution_count": 7,
   "id": "8e3bfcdd-1806-4631-94c8-c3322e3ff3fb",
   "metadata": {
    "jupyter": {
     "source_hidden": true
    },
    "tags": []
   },
   "outputs": [
    {
     "data": {
      "text/html": [
       "<div>\n",
       "<style scoped>\n",
       "    .dataframe tbody tr th:only-of-type {\n",
       "        vertical-align: middle;\n",
       "    }\n",
       "\n",
       "    .dataframe tbody tr th {\n",
       "        vertical-align: top;\n",
       "    }\n",
       "\n",
       "    .dataframe thead th {\n",
       "        text-align: right;\n",
       "    }\n",
       "</style>\n",
       "<table border=\"1\" class=\"dataframe\">\n",
       "  <thead>\n",
       "    <tr style=\"text-align: right;\">\n",
       "      <th></th>\n",
       "      <th>Sample</th>\n",
       "      <th>Imputed 4P2X TP</th>\n",
       "      <th>Imputed 4P2X FN</th>\n",
       "      <th>Imputed 4P2X FP</th>\n",
       "      <th>Imputed 4P2X Precision</th>\n",
       "      <th>Imputed 4P2X Recall</th>\n",
       "      <th>Imputed 8P5X TP</th>\n",
       "      <th>Imputed 8P5X FN</th>\n",
       "      <th>Imputed 8P5X FP</th>\n",
       "      <th>Imputed 8P5X Precision</th>\n",
       "      <th>Imputed 8P5X Recall</th>\n",
       "    </tr>\n",
       "  </thead>\n",
       "  <tbody>\n",
       "    <tr>\n",
       "      <th>0</th>\n",
       "      <td>HG002</td>\n",
       "      <td>251,862 (1,203)</td>\n",
       "      <td>270,527 (1,203)</td>\n",
       "      <td>65,080 (614)</td>\n",
       "      <td>0.7947 (0.0008)</td>\n",
       "      <td>0.4821 (0.0023)</td>\n",
       "      <td>294,850 (254)</td>\n",
       "      <td>227,539 (254)</td>\n",
       "      <td>76,268 (112)</td>\n",
       "      <td>0.7945 (0.0002)</td>\n",
       "      <td>0.5644 (0.0005)</td>\n",
       "    </tr>\n",
       "    <tr>\n",
       "      <th>1</th>\n",
       "      <td>HG003</td>\n",
       "      <td>256,262 (716)</td>\n",
       "      <td>244,530 (716)</td>\n",
       "      <td>70,962 (416)</td>\n",
       "      <td>0.7832 (0.0005)</td>\n",
       "      <td>0.5117 (0.0014)</td>\n",
       "      <td>305,742 (233)</td>\n",
       "      <td>195,052 (233)</td>\n",
       "      <td>78,524 (145)</td>\n",
       "      <td>0.7957 (0.0002)</td>\n",
       "      <td>0.6105 (0.0005)</td>\n",
       "    </tr>\n",
       "    <tr>\n",
       "      <th>2</th>\n",
       "      <td>HG004</td>\n",
       "      <td>237,951 (490)</td>\n",
       "      <td>270,323 (490)</td>\n",
       "      <td>60,461 (365)</td>\n",
       "      <td>0.7974 (0.0007)</td>\n",
       "      <td>0.4682 (0.0010)</td>\n",
       "      <td>273,779 (416)</td>\n",
       "      <td>234,495 (416)</td>\n",
       "      <td>71,535 (257)</td>\n",
       "      <td>0.7929 (0.0004)</td>\n",
       "      <td>0.5386 (0.0008)</td>\n",
       "    </tr>\n",
       "  </tbody>\n",
       "</table>\n",
       "</div>"
      ],
      "text/plain": [
       "  Sample  Imputed 4P2X TP  Imputed 4P2X FN Imputed 4P2X FP  \\\n",
       "0  HG002  251,862 (1,203)  270,527 (1,203)    65,080 (614)   \n",
       "1  HG003    256,262 (716)    244,530 (716)    70,962 (416)   \n",
       "2  HG004    237,951 (490)    270,323 (490)    60,461 (365)   \n",
       "\n",
       "  Imputed 4P2X Precision Imputed 4P2X Recall Imputed 8P5X TP Imputed 8P5X FN  \\\n",
       "0        0.7947 (0.0008)     0.4821 (0.0023)   294,850 (254)   227,539 (254)   \n",
       "1        0.7832 (0.0005)     0.5117 (0.0014)   305,742 (233)   195,052 (233)   \n",
       "2        0.7974 (0.0007)     0.4682 (0.0010)   273,779 (416)   234,495 (416)   \n",
       "\n",
       "  Imputed 8P5X FP Imputed 8P5X Precision Imputed 8P5X Recall  \n",
       "0    76,268 (112)        0.7945 (0.0002)     0.5644 (0.0005)  \n",
       "1    78,524 (145)        0.7957 (0.0002)     0.6105 (0.0005)  \n",
       "2    71,535 (257)        0.7929 (0.0004)     0.5386 (0.0008)  "
      ]
     },
     "execution_count": 7,
     "metadata": {},
     "output_type": "execute_result"
    }
   ],
   "source": [
    "data = {\n",
    "    'Sample': [],\n",
    "    'Imputed 4P2X TP': [],\n",
    "    'Imputed 4P2X FN': [],\n",
    "    'Imputed 4P2X FP': [],\n",
    "    'Imputed 4P2X Precision': [],\n",
    "    'Imputed 4P2X Recall': [],\n",
    "    'Imputed 8P5X TP': [],\n",
    "    'Imputed 8P5X FN': [],\n",
    "    'Imputed 8P5X FP': [],\n",
    "    'Imputed 8P5X Precision': [],\n",
    "    'Imputed 8P5X Recall': [],\n",
    "}\n",
    "\n",
    "for hgid, naid in hgid2naid.items():\n",
    "    data['Sample'].append(hgid)\n",
    "    \n",
    "    df_temp = df_glimpse_variants[df_glimpse_variants.HGID == hgid]\n",
    "    df_temp = df_temp[(df_temp.Type == 'INDEL') & (df_temp.Filter == 'ALL') & (df_temp.Plexing == 4) & (df_temp.WGS_depth == 2)]\n",
    "    data['Imputed 4P2X TP'].append(f'{np.mean(df_temp.TP):,.0f} ({stats.sem(df_temp.TP):,.0f})')\n",
    "    data['Imputed 4P2X FP'].append(f'{np.mean(df_temp.FP):,.0f} ({stats.sem(df_temp.FP):,.0f})')\n",
    "    data['Imputed 4P2X FN'].append(f'{np.mean(df_temp.FN):,.0f} ({stats.sem(df_temp.FN):,.0f})')\n",
    "    data['Imputed 4P2X Precision'].append(f'{np.mean(df_temp.Precision):.4f} ({stats.sem(df_temp.Precision):,.4f})')\n",
    "    data['Imputed 4P2X Recall'].append(f'{np.mean(df_temp.Recall):.4f} ({stats.sem(df_temp.Recall):,.4f})')\n",
    "    # print(hgid, 'Imputed WEGS 4P2X', len(df_temp))\n",
    "    \n",
    "    df_temp = df_glimpse_variants[df_glimpse_variants.HGID == hgid]\n",
    "    df_temp = df_temp[(df_temp.Type == 'INDEL') & (df_temp.Filter == 'ALL') & (df_temp.Plexing == 8) & (df_temp.WGS_depth == 5)]\n",
    "    data['Imputed 8P5X TP'].append(f'{np.mean(df_temp.TP):,.0f} ({stats.sem(df_temp.TP):,.0f})')\n",
    "    data['Imputed 8P5X FP'].append(f'{np.mean(df_temp.FP):,.0f} ({stats.sem(df_temp.FP):,.0f})')\n",
    "    data['Imputed 8P5X FN'].append(f'{np.mean(df_temp.FN):,.0f} ({stats.sem(df_temp.FN):,.0f})')\n",
    "    data['Imputed 8P5X Precision'].append(f'{np.mean(df_temp.Precision):.4f} ({stats.sem(df_temp.Precision):,.4f})')\n",
    "    data['Imputed 8P5X Recall'].append(f'{np.mean(df_temp.Recall):.4f} ({stats.sem(df_temp.Recall):,.4f})')\n",
    "    # print(hgid, 'Imputed WEGS 8P5X', len(df_temp))\n",
    "    \n",
    "pd.DataFrame(data)"
   ]
  },
  {
   "cell_type": "code",
   "execution_count": null,
   "id": "6d02cf88-e901-4c04-9293-61fc91b45f0e",
   "metadata": {},
   "outputs": [],
   "source": []
  }
 ],
 "metadata": {
  "kernelspec": {
   "display_name": "Python 3.9",
   "language": "python",
   "name": "python3"
  },
  "language_info": {
   "codemirror_mode": {
    "name": "ipython",
    "version": 3
   },
   "file_extension": ".py",
   "mimetype": "text/x-python",
   "name": "python",
   "nbconvert_exporter": "python",
   "pygments_lexer": "ipython3",
   "version": "3.9.6"
  }
 },
 "nbformat": 4,
 "nbformat_minor": 5
}
